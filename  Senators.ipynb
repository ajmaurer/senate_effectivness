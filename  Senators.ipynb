{
 "cells": [
  {
   "cell_type": "code",
   "execution_count": 1,
   "metadata": {},
   "outputs": [],
   "source": [
    "from urllib.request import Request, urlopen\n",
    "import pandas as pd\n",
    "import re\n",
    "from matplotlib import pyplot as plt\n",
    "from bs4 import BeautifulSoup\n",
    "from urllib.parse import unquote\n",
    "from time import sleep, time\n",
    "\n",
    "%matplotlib inline"
   ]
  },
  {
   "cell_type": "code",
   "execution_count": 2,
   "metadata": {},
   "outputs": [],
   "source": [
    "state_acronym_str = \"\"\"Alabama - AL\n",
    "Alaska - AK\n",
    "Arizona - AZ\n",
    "Arkansas - AR\n",
    "California - CA\n",
    "Colorado - CO\n",
    "Connecticut - CT\n",
    "Delaware - DE\n",
    "Florida - FL\n",
    "Georgia - GA\n",
    "Hawaii - HI\n",
    "Idaho - ID\n",
    "Illinois - IL\n",
    "Indiana - IN\n",
    "Iowa - IA\n",
    "Kansas - KS\n",
    "Kentucky - KY\n",
    "Louisiana - LA\n",
    "Maine - ME\n",
    "Maryland - MD\n",
    "Massachusetts - MA\n",
    "Michigan - MI\n",
    "Minnesota - MN\n",
    "Mississippi - MS\n",
    "Missouri - MO\n",
    "Montana - MT\n",
    "Nebraska - NE\n",
    "Nevada - NV\n",
    "New Hampshire - NH\n",
    "New Jersey - NJ\n",
    "New Mexico - NM\n",
    "New York - NY\n",
    "North Carolina - NC\n",
    "North Dakota - ND\n",
    "Ohio - OH\n",
    "Oklahoma - OK\n",
    "Oregon - OR\n",
    "Pennsylvania - PA\n",
    "Rhode Island - RI\n",
    "South Carolina - SC\n",
    "South Dakota - SD\n",
    "Tennessee - TN\n",
    "Texas - TX\n",
    "Utah - UT\n",
    "Vermont - VT\n",
    "Virginia - VA\n",
    "Washington - WA\n",
    "West Virginia - WV\n",
    "Wisconsin - WI\n",
    "Wyoming - WY\"\"\"\n",
    "state_acronyms = {\n",
    "    line.split(' - ')[0]: line.split(' - ')[1]\n",
    "    for line in state_acronym_str.split('\\n')\n",
    "}\n",
    "\n",
    "party_acronyms = {\n",
    "    'Republican': 'R',\n",
    "    'Democratic': 'D',\n",
    "    'Independent': 'I',\n",
    "    'Independent Democrat': 'D', # just Joe Lieberman\n",
    "}\n",
    "\n",
    "candidates = [\n",
    "    'Sen. Sanders, Bernard',\n",
    "    'Sen. Warren, Elizabeth',\n",
    "    'Sen. Klobuchar, Amy',\n",
    "    'Sen. Biden, Joseph R., Jr.',\n",
    "    'Sen. Bennet, Michael F.',\n",
    "    'Sen. Booker, Cory A.',\n",
    "    'Sen. Harris, Kamala D.',\n",
    "    'Sen. Gillibrand, Kirsten E.',\n",
    "    'Sen. Gravel, Mike',\n",
    "    'Sen. Clinton, Hillary Rodham'\n",
    "]\n",
    "\n",
    "def choose_party(row):\n",
    "    name = row.get('Sponsor') or row['Name']\n",
    "    party_initial = row.get('Party Acronym') or re.search(r'\\[(\\w{1,2})-\\w{2}\\]', name).groups(0)[0]\n",
    "    if party_initial == 'D':\n",
    "        return 'Democratic'\n",
    "    elif party_initial == 'ID':\n",
    "        return 'Democratic'\n",
    "    elif party_initial == 'R':\n",
    "        return 'Republican'\n",
    "    # handle by caucusing https://www.congress.gov/member/harry-byrd/B001209?q={%22search%22:[%22Independent%22]}&s=9&r=7&searchResultViewType=expanded&KWICView=false\n",
    "    elif 'Sanders' in name or 'King' in name or 'Lieberman' in name or 'Jeffords' in name:\n",
    "        return 'Democratic'\n",
    "    elif 'Smith, Bob' in name:\n",
    "        return 'Republican'\n",
    "    elif 'Sen. Byrd, Harry F., Jr. [I-VA]' == name:\n",
    "        return 'Democratic'\n",
    "    # should only include Dean Barkley\n",
    "    else:\n",
    "        return 'Independent'"
   ]
  },
  {
   "cell_type": "code",
   "execution_count": 17,
   "metadata": {},
   "outputs": [],
   "source": [
    "def load_all_bills():\n",
    "\n",
    "    bill_files = [\n",
    "        'senate_bills_law_109_116.csv',\n",
    "        'senate_bills_law_103_108.csv',\n",
    "        'senate_bills_law_100_102.csv',\n",
    "        'senate_bills_law_97_99.csv',\n",
    "        'senate_bills_law_94_96.csv',\n",
    "        'senate_bills_law_93.csv',\n",
    "    ]\n",
    "\n",
    "    all_bills = pd.concat([pd.read_csv(file, skiprows=3) for file in bill_files]).reset_index()\n",
    "    all_bills['Congress'] = all_bills['Congress'].map(lambda s: s if s[0] == '1' else ' '+s)\n",
    "    all_bills['Congress Number'] = all_bills['Congress'].map(lambda s: int(re.sub(r'[a-z]', '', s.split()[0])))\n",
    "    all_bills['Name Bill'] = all_bills['Title'].map(lambda t: 'designate' in t.lower().split())\n",
    "    all_bills['Type'] = all_bills['Legislation Number'].map(lambda n: n.split()[0])\n",
    "    all_bills['Number'] = all_bills['Legislation Number'].map(lambda n: int(n.split()[1]))\n",
    "    all_bills['Sponsor Name'] = all_bills['Sponsor'].map(lambda s: re.sub(' \\[[\\w\\-]+\\]', '', s))\n",
    "    all_bills['Party'] = all_bills.apply(choose_party, axis=1)\n",
    "    all_bills['Congress'] = all_bills['Congress'].map(lambda s: s.replace(' Congress', ''))\n",
    "    all_bills = all_bills[['Congress', 'Congress Number', 'Legislation Number', 'Type', 'Number', 'Title', 'Sponsor Name', 'Party', 'Number of Cosponsors', 'Name Bill', 'Latest Action Date', 'URL']]\n",
    "    return all_bills\n",
    "\n",
    "\n",
    "all_bills = load_all_bills()"
   ]
  },
  {
   "cell_type": "code",
   "execution_count": 19,
   "metadata": {},
   "outputs": [],
   "source": [
    "congress_map = all_bills[['Congress', 'Congress Number']].drop_duplicates()"
   ]
  },
  {
   "cell_type": "code",
   "execution_count": 20,
   "metadata": {},
   "outputs": [
    {
     "data": {
      "text/plain": [
       "4321"
      ]
     },
     "execution_count": 20,
     "metadata": {},
     "output_type": "execute_result"
    }
   ],
   "source": [
    "len(all_bills)"
   ]
  },
  {
   "cell_type": "code",
   "execution_count": 21,
   "metadata": {},
   "outputs": [
    {
     "data": {
      "text/plain": [
       "3722"
      ]
     },
     "execution_count": 21,
     "metadata": {},
     "output_type": "execute_result"
    }
   ],
   "source": [
    "len(all_bills.loc[~all_bills['Name Bill']])"
   ]
  },
  {
   "cell_type": "code",
   "execution_count": 22,
   "metadata": {},
   "outputs": [],
   "source": [
    "def sponsor_score(row):\n",
    "    if not row['Cosponsor']:\n",
    "        return 1.0 if row['Number of Cosponsors'] == 0 else 0.5\n",
    "    else:\n",
    "        return 0.5 / row['Number of Cosponsors']\n",
    "\n",
    "def load_sponsors():\n",
    "    sponsors = pd.read_csv('cosponsors_fixed.csv', index_col=False)\n",
    "    sponsors['Sponsor Name'] = sponsors['Sponsor'].map(lambda s: re.sub(' \\[[\\w\\-]+\\]', '', s))\n",
    "    sponsors['Party'] = sponsors.apply(choose_party, axis=1)\n",
    "    sponsors = sponsors.drop('Sponsor', axis=1)\n",
    "    sponsors['Weighted Score'] = sponsors.apply(sponsor_score, axis=1)\n",
    "    sponsors['Sponsored Count'] = sponsors['Cosponsor'].apply(lambda s: 0 if s else 1)\n",
    "    sponsors['Cosponsored Count'] = sponsors['Cosponsor'].apply(lambda s: 1 if s else 0)\n",
    "    \n",
    "    return sponsors\n",
    "\n",
    "sponsors = load_sponsors()"
   ]
  },
  {
   "cell_type": "code",
   "execution_count": 23,
   "metadata": {},
   "outputs": [],
   "source": [
    "candidates_raw = sponsors.loc[~sponsors['Name Bill']]\\\n",
    "    .groupby('Sponsor Name')[['Sponsored Count', 'Cosponsored Count']]\\\n",
    "    .sum()\\\n",
    "    .loc[candidates].sort_values(['Sponsored Count', 'Cosponsored Count'], ascending=False)\n",
    "\n",
    "candidates_raw.to_csv('candidate_sponsors.csv')"
   ]
  },
  {
   "cell_type": "code",
   "execution_count": 24,
   "metadata": {},
   "outputs": [],
   "source": [
    "bills_parties = sponsors[['Congress Number', 'Legislation Number', 'Party']].copy()\n",
    "bills_parties['Party Count'] = sponsors['Party']\n",
    "bills_parties = bills_parties\\\n",
    "    .groupby(['Congress Number', 'Legislation Number'])\\\n",
    "    .agg({'Party': 'max', 'Party Count': 'nunique'})\n",
    "    #.reset_index()\n",
    "def choose_bipartisan(row):\n",
    "    if row['Party Count'] > 1:\n",
    "        return 'Bipartisan'\n",
    "    else:\n",
    "        return row['Party']\n",
    "\n",
    "all_bills = all_bills.drop(['Party'], axis=1).join(bills_parties, on=['Congress Number', 'Legislation Number'], how='left')\n",
    "all_bills['Party'] = all_bills.apply(choose_bipartisan, axis=1)"
   ]
  },
  {
   "cell_type": "code",
   "execution_count": 33,
   "metadata": {},
   "outputs": [
    {
     "data": {
      "image/png": "[encoded data removed]",
      "text/plain": [
       "<Figure size 864x432 with 1 Axes>"
      ]
     },
     "metadata": {
      "needs_background": "light"
     },
     "output_type": "display_data"
    }
   ],
   "source": [
    "all_bills.loc[~all_bills['Name Bill']]\\\n",
    "    .rename(columns={'Party': 'Party Sponsorship'})\\\n",
    "    .pivot_table(values='Number', index='Congress', columns='Party Sponsorship', aggfunc=pd.Series.nunique)\\\n",
    "    .plot.bar(stacked=True, color=['purple', 'blue', 'yellow', 'red'], title='Bills Passed Per Congress', figsize=(12,6))\n",
    "plt.tight_layout()\n",
    "plt.savefig(\"bills_per_congress.png\")"
   ]
  },
  {
   "cell_type": "code",
   "execution_count": 27,
   "metadata": {},
   "outputs": [],
   "source": [
    "def whole_name_func(row):\n",
    "    return row['Name'].replace('Senator', 'Sen.')\n",
    "\n",
    "def to_congress(year):\n",
    "    if year == 'Present':\n",
    "        year = 2020\n",
    "    return (int(year) - 1788) // 2\n",
    "\n",
    "def get_congresses(terms):\n",
    "    senate_terms = terms.split(' | ')[0]\n",
    "    matches = [\n",
    "        c\n",
    "        for match in re.findall(r'\\d{4}-(?:\\d{4}|Present)', senate_terms)\n",
    "        for c in range(to_congress(match.split('-')[0])+1, to_congress(match.split('-')[1]) + 1)\n",
    "    ]\n",
    "    return matches\n",
    "\n",
    "def load_senators():\n",
    "    senators = pd.read_csv('senators.csv', skiprows=3)\n",
    "    senators['Name'] = senators.apply(whole_name_func, axis=1)\n",
    "    senators['Congresses']  = senators['Terms'].map(get_congresses)\n",
    "    senators = senators.drop('District', axis=1)\n",
    "    senators['Current'] = senators['Congresses'].map(lambda cs: 116 in cs)\n",
    "    senators['Party Acronym'] = senators['Party'].map(party_acronyms)\n",
    "    senators['Party'] = senators.apply(choose_party, axis = 1)\n",
    "    senators = senators.drop('Party Acronym', axis=1)\n",
    "    return senators\n",
    "\n",
    "senators = load_senators()"
   ]
  },
  {
   "cell_type": "code",
   "execution_count": 28,
   "metadata": {},
   "outputs": [],
   "source": [
    "def calculate_senator_scores(senators, sponsors):\n",
    "    rows = []\n",
    "    for (i, row) in senators[['Name', 'Congresses', 'Party']].iterrows():\n",
    "        for congress in row['Congresses']:\n",
    "            rows.append((row['Name'], row['Party'], congress))\n",
    "    senators_by_congress = pd.DataFrame(rows, columns=['Sponsor Name', 'Party', 'Congress Number'])\n",
    "    senator_score_by_congress = sponsors.loc[~sponsors['Name Bill']]\\\n",
    "        .groupby(['Sponsor Name', 'Congress Number'])[['Sponsored Count', 'Cosponsored Count', 'Weighted Score']].sum()\n",
    "\n",
    "    senator_score_by_congress = senators_by_congress\\\n",
    "        .loc[senators_by_congress['Congress Number'] >= 93]\\\n",
    "        .join(senator_score_by_congress, on=['Sponsor Name', 'Congress Number'], how='left')\\\n",
    "        .fillna(0.0)\\\n",
    "\n",
    "    score_by_congress = senator_score_by_congress\\\n",
    "        .groupby(['Party', 'Congress Number'])[['Weighted Score']]\\\n",
    "        .mean()\n",
    "\n",
    "    senators_scores = senator_score_by_congress\\\n",
    "        .join(\n",
    "            score_by_congress.rename(columns={'Weighted Score': 'Typical Weighted Score'}),\n",
    "            on=['Party', 'Congress Number'],\n",
    "            how='left',\n",
    "        )\\\n",
    "        .groupby('Sponsor Name')[['Sponsored Count', 'Cosponsored Count', 'Weighted Score', 'Typical Weighted Score']].sum()\n",
    "    senators_scores['Score Relative to Expectation'] = senators_scores['Weighted Score'] / senators_scores['Typical Weighted Score']\n",
    "    senators_scores = senators_scores.sort_values(['Score Relative to Expectation'], ascending=False)\n",
    "    senators_scores['Rank'] = pd.RangeIndex(0, len(senators_scores)) + 1\n",
    "    senators_scores = senators_scores.join(\n",
    "        senators[['Name', 'Party', 'Current']].rename({'Name': 'Sponsor Name'}, axis=1).set_index('Sponsor Name'),\n",
    "        on=['Sponsor Name'],\n",
    "        how='left',\n",
    "    )\n",
    "    senators_scores = senators_scores[['Party', 'Current', 'Sponsored Count', 'Cosponsored Count', 'Weighted Score', 'Score Relative to Expectation', 'Rank']]\n",
    "    return (score_by_congress, senators_scores)\n",
    "\n",
    "score_by_congress, senators_scores = calculate_senator_scores(senators, sponsors)    "
   ]
  },
  {
   "cell_type": "code",
   "execution_count": 29,
   "metadata": {},
   "outputs": [],
   "source": [
    "senators_scores\\\n",
    "    .loc[candidates].drop(['Current', 'Party'], axis=1)\\\n",
    "    .sort_values(['Score Relative to Expectation'], ascending=False)\\\n",
    "    .to_csv('candidate_scores.csv')"
   ]
  },
  {
   "cell_type": "code",
   "execution_count": 30,
   "metadata": {},
   "outputs": [],
   "source": [
    "senators_scores.loc[senators_scores['Current']].to_csv('all_senator_scores.csv')"
   ]
  },
  {
   "cell_type": "code",
   "execution_count": 32,
   "metadata": {},
   "outputs": [
    {
     "data": {
      "image/png": "[encoded data removed]",
      "text/plain": [
       "<Figure size 864x432 with 1 Axes>"
      ]
     },
     "metadata": {
      "needs_background": "light"
     },
     "output_type": "display_data"
    }
   ],
   "source": [
    "score_by_congress\\\n",
    "    .loc[['Republican', 'Democratic']]\\\n",
    "    .join(congress_map.set_index('Congress Number'), on=['Congress Number'], how='left')\\\n",
    "    .pivot_table(\n",
    "        index='Congress',\n",
    "        columns='Party',\n",
    "        values='Weighted Score'\n",
    "    ).plot\\\n",
    "    .bar(color=['blue', 'red'], title='Average Sponsorship Score Per Congress', figsize=(12,6))\n",
    "plt.tight_layout()\n",
    "plt.savefig(\"sponsorship_per_congress.png\")"
   ]
  },
  {
   "cell_type": "code",
   "execution_count": null,
   "metadata": {},
   "outputs": [],
   "source": [
    "# code to scrape sponsors, currently broken\n",
    "\n",
    "def get_cosponsors(url):\n",
    "    request = Request(url + '/cosponsors', headers={'User-Agent': 'Mozilla/5.0'})\n",
    "    try:\n",
    "        with urlopen(request) as response:\n",
    "            html = response.read()\n",
    "    except:\n",
    "        sleep(3)\n",
    "        print(\"Got error, sleeping for 3 seconds\")\n",
    "        with urlopen(request) as response:\n",
    "            html = response.read()\n",
    "    soup = BeautifulSoup(html, 'html.parser')\n",
    "    return [\n",
    "        sen.get_text().strip('*')\n",
    "        for table in soup.find_all(attrs={\"class\": \"item_table\"})\n",
    "        for sen in table.find_all('a')\n",
    "    ]    \n",
    "\n",
    "def generate_sponsors(df, sleep_secs = 0, limit=10000, notify_every=100, file_name='cosponsors.csv'):\n",
    "    sponsors = df\\\n",
    "        .iloc[0:limit][['URL', 'Congress Number', 'Legislation Number', 'Name Bill', 'Number of Cosponsors', 'Sponsor']]\\\n",
    "        .copy()\\\n",
    "        .reset_index()\n",
    "    sponsors['Cosponsor'] = False\n",
    "    new_rows = []\n",
    "    start_time = time()\n",
    "    sponsors.drop('URL', axis=1)\\\n",
    "        .sort_values(['Congress Number', 'Legislation Number', 'Cosponsor', 'Sponsor'], ascending=False)\\\n",
    "        .to_csv(file_name, index=False)\n",
    "    for (i, row) in sponsors.iterrows():\n",
    "        cosponsors = get_cosponsors(row['URL'])\n",
    "        for cosponsor in cosponsors:\n",
    "            new_rows.append((\n",
    "                row['Congress Number'],\n",
    "                row['Legislation Number'],\n",
    "                row['Name Bill'],\n",
    "                row['Number of Cosponsors'],\n",
    "                cosponsor,\n",
    "                True\n",
    "            ))\n",
    "        sleep(sleep_secs)\n",
    "        if (i % notify_every == 0 and i > 0) or (i == len(sponsors) -1):\n",
    "            print('Processed {0} bills in {1} seconds'.format(i, time() - start_time))\n",
    "            new_sponsors =  pd.DataFrame(new_rows, columns=['Congress Number', 'Legislation Number', 'Name Bill', 'Number of Cosponsors', 'Sponsor', 'Cosponsor'])\n",
    "            new_rows=[]\n",
    "            with open(file_name, 'a') as file:\n",
    "                new_sponsors.to_csv(file, header=False, index=False)\n",
    "    sponsors = pd.read_csv(file_name)\\\n",
    "        .sort_values(['Congress Number', 'Legislation Number', 'Cosponsor', 'Sponsor'], ascending=False)\n",
    "    sponsors.to_csv(file_name)\n",
    "    return sponsors\n",
    "sponsors = generate_sponsors(all_bills)"
   ]
  },
  {
   "cell_type": "code",
   "execution_count": null,
   "metadata": {},
   "outputs": [],
   "source": []
  }
 ],
 "metadata": {
  "kernelspec": {
   "display_name": "Python 3",
   "language": "python",
   "name": "python3"
  },
  "language_info": {
   "codemirror_mode": {
    "name": "ipython",
    "version": 3
   },
   "file_extension": ".py",
   "mimetype": "text/x-python",
   "name": "python",
   "nbconvert_exporter": "python",
   "pygments_lexer": "ipython3",
   "version": "3.7.6"
  }
 },
 "nbformat": 4,
 "nbformat_minor": 2
}
